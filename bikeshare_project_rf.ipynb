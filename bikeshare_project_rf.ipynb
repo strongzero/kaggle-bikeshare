{
 "cells": [
  {
   "cell_type": "code",
   "execution_count": 477,
   "metadata": {},
   "outputs": [],
   "source": [
    "import pandas as pd\n",
    "from datetime import datetime\n",
    "import seaborn as sns\n",
    "import matplotlib.pyplot as plt\n",
    "import missingno as msno\n",
    "import numpy as np\n",
    "from scipy import stats\n",
    "from sklearn.compose import ColumnTransformer\n",
    "from sklearn.preprocessing import FunctionTransformer\n",
    "from sklearn.preprocessing import KBinsDiscretizer\n",
    "from sklearn.preprocessing import OneHotEncoder\n",
    "from sklearn.impute import SimpleImputer\n",
    "from sklearn.linear_model import LinearRegression,Ridge,Lasso\n",
    "from sklearn.model_selection import GridSearchCV\n",
    "from sklearn import metrics\n",
    "from sklearn.pipeline import Pipeline, make_pipeline\n",
    "from sklearn.ensemble import RandomForestRegressor\n",
    "from sklearn.model_selection import train_test_split\n",
    "from sklearn.model_selection import cross_val_score\n",
    "from sklearn.model_selection import GridSearchCV\n",
    "from pprint import pprint"
   ]
  },
  {
   "cell_type": "code",
   "execution_count": 478,
   "metadata": {},
   "outputs": [],
   "source": [
    "#colums of previous df are messed up during EDA so crearting again\n",
    "df = pd.read_csv('train.csv')  #parse_dates=True"
   ]
  },
  {
   "cell_type": "code",
   "execution_count": 479,
   "metadata": {},
   "outputs": [
    {
     "name": "stdout",
     "output_type": "stream",
     "text": [
      "<class 'pandas.core.frame.DataFrame'>\n",
      "RangeIndex: 10886 entries, 0 to 10885\n",
      "Data columns (total 12 columns):\n",
      " #   Column      Non-Null Count  Dtype  \n",
      "---  ------      --------------  -----  \n",
      " 0   datetime    10886 non-null  object \n",
      " 1   season      10886 non-null  int64  \n",
      " 2   holiday     10886 non-null  int64  \n",
      " 3   workingday  10886 non-null  int64  \n",
      " 4   weather     10886 non-null  int64  \n",
      " 5   temp        10886 non-null  float64\n",
      " 6   atemp       10886 non-null  float64\n",
      " 7   humidity    10886 non-null  int64  \n",
      " 8   windspeed   10886 non-null  float64\n",
      " 9   casual      10886 non-null  int64  \n",
      " 10  registered  10886 non-null  int64  \n",
      " 11  count       10886 non-null  int64  \n",
      "dtypes: float64(3), int64(8), object(1)\n",
      "memory usage: 1020.7+ KB\n"
     ]
    }
   ],
   "source": [
    "df.info()"
   ]
  },
  {
   "cell_type": "code",
   "execution_count": 480,
   "metadata": {},
   "outputs": [],
   "source": [
    "X = df.drop(['count', 'casual', 'registered'], axis=1) \n",
    "y = df['count']\n",
    "#drop 'casual', 'registered here because test.csv doesn't have these columns"
   ]
  },
  {
   "cell_type": "code",
   "execution_count": 481,
   "metadata": {},
   "outputs": [],
   "source": [
    "X_train, X_test, y_train, y_test = train_test_split(X,y,random_state=42)"
   ]
  },
  {
   "cell_type": "code",
   "execution_count": 482,
   "metadata": {},
   "outputs": [],
   "source": [
    "def extract(df):\n",
    "        df.datetime = pd.to_datetime(df.datetime)\n",
    "        df['day'] = df.datetime.dt.day\n",
    "        df['hour'] = df.datetime.dt.hour\n",
    "        df['weekday'] = df.datetime.dt.weekday\n",
    "        df['year'] = df.datetime.dt.year\n",
    "        df['month'] = df.datetime.dt.month\n",
    "        \n",
    "        return pd.concat([df[['day']],pd.get_dummies(df[['year','month','weekday','hour']],columns=['year','month','weekday','hour'])],axis=1)\n",
    "\n"
   ]
  },
  {
   "cell_type": "code",
   "execution_count": 483,
   "metadata": {},
   "outputs": [],
   "source": [
    "preprosessor = ColumnTransformer([\n",
    "    ('do_nothing', 'passthrough', ['holiday', 'workingday', 'season', 'weather', 'windspeed', 'temp', 'humidity']),\n",
    "    ('time_extact', FunctionTransformer(extract), ['datetime']),\n",
    "    #('one_hot_encoding', OneHotEncoder(sparse = False), ['season','weather']),\n",
    "    #('0_imputer', SimpleImputer(strategy='mean', fill_value=0), ['windspeed']),\n",
    "    ], \n",
    "    remainder='drop')  "
   ]
  },
  {
   "cell_type": "code",
   "execution_count": 484,
   "metadata": {},
   "outputs": [],
   "source": [
    "# create the model pipeline\n",
    "pipeline = make_pipeline(preprosessor, RandomForestRegressor())"
   ]
  },
  {
   "cell_type": "code",
   "execution_count": 485,
   "metadata": {},
   "outputs": [
    {
     "data": {
      "text/plain": [
       "Pipeline(steps=[('columntransformer',\n",
       "                 ColumnTransformer(transformers=[('do_nothing', 'passthrough',\n",
       "                                                  ['holiday', 'workingday',\n",
       "                                                   'season', 'weather',\n",
       "                                                   'windspeed', 'temp',\n",
       "                                                   'humidity']),\n",
       "                                                 ('time_extact',\n",
       "                                                  FunctionTransformer(func=<function extract at 0x7fa61f6e6af0>),\n",
       "                                                  ['datetime'])])),\n",
       "                ('randomforestregressor', RandomForestRegressor())])"
      ]
     },
     "execution_count": 485,
     "metadata": {},
     "output_type": "execute_result"
    }
   ],
   "source": [
    "pipeline.fit(X_train, y_train)"
   ]
  },
  {
   "cell_type": "code",
   "execution_count": 486,
   "metadata": {},
   "outputs": [
    {
     "data": {
      "text/html": [
       "<div>\n",
       "<style scoped>\n",
       "    .dataframe tbody tr th:only-of-type {\n",
       "        vertical-align: middle;\n",
       "    }\n",
       "\n",
       "    .dataframe tbody tr th {\n",
       "        vertical-align: top;\n",
       "    }\n",
       "\n",
       "    .dataframe thead th {\n",
       "        text-align: right;\n",
       "    }\n",
       "</style>\n",
       "<table border=\"1\" class=\"dataframe\">\n",
       "  <thead>\n",
       "    <tr style=\"text-align: right;\">\n",
       "      <th></th>\n",
       "      <th>datetime</th>\n",
       "      <th>season</th>\n",
       "      <th>holiday</th>\n",
       "      <th>workingday</th>\n",
       "      <th>weather</th>\n",
       "      <th>temp</th>\n",
       "      <th>atemp</th>\n",
       "      <th>humidity</th>\n",
       "      <th>windspeed</th>\n",
       "    </tr>\n",
       "  </thead>\n",
       "  <tbody>\n",
       "    <tr>\n",
       "      <th>2930</th>\n",
       "      <td>2011-07-11 00:00:00</td>\n",
       "      <td>3</td>\n",
       "      <td>0</td>\n",
       "      <td>1</td>\n",
       "      <td>1</td>\n",
       "      <td>28.70</td>\n",
       "      <td>32.575</td>\n",
       "      <td>65</td>\n",
       "      <td>12.9980</td>\n",
       "    </tr>\n",
       "    <tr>\n",
       "      <th>7669</th>\n",
       "      <td>2012-05-18 22:00:00</td>\n",
       "      <td>2</td>\n",
       "      <td>0</td>\n",
       "      <td>1</td>\n",
       "      <td>1</td>\n",
       "      <td>22.96</td>\n",
       "      <td>26.515</td>\n",
       "      <td>52</td>\n",
       "      <td>22.0028</td>\n",
       "    </tr>\n",
       "    <tr>\n",
       "      <th>1346</th>\n",
       "      <td>2011-04-01 23:00:00</td>\n",
       "      <td>2</td>\n",
       "      <td>0</td>\n",
       "      <td>1</td>\n",
       "      <td>1</td>\n",
       "      <td>12.30</td>\n",
       "      <td>15.910</td>\n",
       "      <td>61</td>\n",
       "      <td>6.0032</td>\n",
       "    </tr>\n",
       "    <tr>\n",
       "      <th>9432</th>\n",
       "      <td>2012-09-16 09:00:00</td>\n",
       "      <td>3</td>\n",
       "      <td>0</td>\n",
       "      <td>0</td>\n",
       "      <td>1</td>\n",
       "      <td>23.78</td>\n",
       "      <td>27.275</td>\n",
       "      <td>60</td>\n",
       "      <td>8.9981</td>\n",
       "    </tr>\n",
       "    <tr>\n",
       "      <th>453</th>\n",
       "      <td>2011-02-01 23:00:00</td>\n",
       "      <td>1</td>\n",
       "      <td>0</td>\n",
       "      <td>1</td>\n",
       "      <td>3</td>\n",
       "      <td>8.20</td>\n",
       "      <td>9.850</td>\n",
       "      <td>93</td>\n",
       "      <td>12.9980</td>\n",
       "    </tr>\n",
       "    <tr>\n",
       "      <th>...</th>\n",
       "      <td>...</td>\n",
       "      <td>...</td>\n",
       "      <td>...</td>\n",
       "      <td>...</td>\n",
       "      <td>...</td>\n",
       "      <td>...</td>\n",
       "      <td>...</td>\n",
       "      <td>...</td>\n",
       "      <td>...</td>\n",
       "    </tr>\n",
       "    <tr>\n",
       "      <th>5734</th>\n",
       "      <td>2012-01-14 02:00:00</td>\n",
       "      <td>1</td>\n",
       "      <td>0</td>\n",
       "      <td>0</td>\n",
       "      <td>1</td>\n",
       "      <td>6.56</td>\n",
       "      <td>8.335</td>\n",
       "      <td>47</td>\n",
       "      <td>11.0014</td>\n",
       "    </tr>\n",
       "    <tr>\n",
       "      <th>5191</th>\n",
       "      <td>2011-12-10 09:00:00</td>\n",
       "      <td>4</td>\n",
       "      <td>0</td>\n",
       "      <td>0</td>\n",
       "      <td>1</td>\n",
       "      <td>11.48</td>\n",
       "      <td>12.880</td>\n",
       "      <td>61</td>\n",
       "      <td>19.0012</td>\n",
       "    </tr>\n",
       "    <tr>\n",
       "      <th>5390</th>\n",
       "      <td>2011-12-18 16:00:00</td>\n",
       "      <td>4</td>\n",
       "      <td>0</td>\n",
       "      <td>0</td>\n",
       "      <td>1</td>\n",
       "      <td>11.48</td>\n",
       "      <td>13.635</td>\n",
       "      <td>48</td>\n",
       "      <td>16.9979</td>\n",
       "    </tr>\n",
       "    <tr>\n",
       "      <th>860</th>\n",
       "      <td>2011-02-19 07:00:00</td>\n",
       "      <td>1</td>\n",
       "      <td>0</td>\n",
       "      <td>0</td>\n",
       "      <td>1</td>\n",
       "      <td>15.58</td>\n",
       "      <td>19.695</td>\n",
       "      <td>17</td>\n",
       "      <td>35.0008</td>\n",
       "    </tr>\n",
       "    <tr>\n",
       "      <th>7270</th>\n",
       "      <td>2012-05-02 07:00:00</td>\n",
       "      <td>2</td>\n",
       "      <td>0</td>\n",
       "      <td>1</td>\n",
       "      <td>2</td>\n",
       "      <td>22.14</td>\n",
       "      <td>25.760</td>\n",
       "      <td>88</td>\n",
       "      <td>12.9980</td>\n",
       "    </tr>\n",
       "  </tbody>\n",
       "</table>\n",
       "<p>8164 rows × 9 columns</p>\n",
       "</div>"
      ],
      "text/plain": [
       "                 datetime  season  holiday  workingday  weather   temp  \\\n",
       "2930  2011-07-11 00:00:00       3        0           1        1  28.70   \n",
       "7669  2012-05-18 22:00:00       2        0           1        1  22.96   \n",
       "1346  2011-04-01 23:00:00       2        0           1        1  12.30   \n",
       "9432  2012-09-16 09:00:00       3        0           0        1  23.78   \n",
       "453   2011-02-01 23:00:00       1        0           1        3   8.20   \n",
       "...                   ...     ...      ...         ...      ...    ...   \n",
       "5734  2012-01-14 02:00:00       1        0           0        1   6.56   \n",
       "5191  2011-12-10 09:00:00       4        0           0        1  11.48   \n",
       "5390  2011-12-18 16:00:00       4        0           0        1  11.48   \n",
       "860   2011-02-19 07:00:00       1        0           0        1  15.58   \n",
       "7270  2012-05-02 07:00:00       2        0           1        2  22.14   \n",
       "\n",
       "       atemp  humidity  windspeed  \n",
       "2930  32.575        65    12.9980  \n",
       "7669  26.515        52    22.0028  \n",
       "1346  15.910        61     6.0032  \n",
       "9432  27.275        60     8.9981  \n",
       "453    9.850        93    12.9980  \n",
       "...      ...       ...        ...  \n",
       "5734   8.335        47    11.0014  \n",
       "5191  12.880        61    19.0012  \n",
       "5390  13.635        48    16.9979  \n",
       "860   19.695        17    35.0008  \n",
       "7270  25.760        88    12.9980  \n",
       "\n",
       "[8164 rows x 9 columns]"
      ]
     },
     "execution_count": 486,
     "metadata": {},
     "output_type": "execute_result"
    }
   ],
   "source": [
    "X_train"
   ]
  },
  {
   "cell_type": "code",
   "execution_count": 487,
   "metadata": {},
   "outputs": [
    {
     "name": "stdout",
     "output_type": "stream",
     "text": [
      "<class 'pandas.core.frame.DataFrame'>\n",
      "Int64Index: 8164 entries, 2930 to 7270\n",
      "Data columns (total 9 columns):\n",
      " #   Column      Non-Null Count  Dtype  \n",
      "---  ------      --------------  -----  \n",
      " 0   datetime    8164 non-null   object \n",
      " 1   season      8164 non-null   int64  \n",
      " 2   holiday     8164 non-null   int64  \n",
      " 3   workingday  8164 non-null   int64  \n",
      " 4   weather     8164 non-null   int64  \n",
      " 5   temp        8164 non-null   float64\n",
      " 6   atemp       8164 non-null   float64\n",
      " 7   humidity    8164 non-null   int64  \n",
      " 8   windspeed   8164 non-null   float64\n",
      "dtypes: float64(3), int64(5), object(1)\n",
      "memory usage: 637.8+ KB\n"
     ]
    }
   ],
   "source": [
    "X_train.info()"
   ]
  },
  {
   "cell_type": "code",
   "execution_count": 488,
   "metadata": {},
   "outputs": [
    {
     "data": {
      "text/plain": [
       "0.9884566445874494"
      ]
     },
     "execution_count": 488,
     "metadata": {},
     "output_type": "execute_result"
    }
   ],
   "source": [
    "pipeline.score(X_train, y_train)"
   ]
  },
  {
   "cell_type": "code",
   "execution_count": 489,
   "metadata": {},
   "outputs": [
    {
     "data": {
      "text/plain": [
       "0.9269273833258622"
      ]
     },
     "execution_count": 489,
     "metadata": {},
     "output_type": "execute_result"
    }
   ],
   "source": [
    "pipeline.score(X_test, y_test)"
   ]
  },
  {
   "cell_type": "markdown",
   "metadata": {},
   "source": [
    "## Cross Validation"
   ]
  },
  {
   "cell_type": "code",
   "execution_count": 490,
   "metadata": {},
   "outputs": [],
   "source": [
    "pipeline = make_pipeline(preprosessor, RandomForestRegressor()) #an unfitted model, default value"
   ]
  },
  {
   "cell_type": "code",
   "execution_count": 491,
   "metadata": {},
   "outputs": [],
   "source": [
    "cross_acc = cross_val_score(estimator=pipeline,        # estimator: # the model you want to evaluate/unfitted \n",
    "                            X=X_train,            # the training input data \n",
    "                            y=y_train,            # the training output data  \n",
    "                            cv=5,                # number of cross validation datasets, k   \n",
    "                            scoring='r2'   # evaluation metric \n",
    "                            ) "
   ]
  },
  {
   "cell_type": "code",
   "execution_count": 492,
   "metadata": {},
   "outputs": [
    {
     "data": {
      "text/plain": [
       "array([0.90366651, 0.91236075, 0.91345015, 0.91749597, 0.90246243])"
      ]
     },
     "execution_count": 492,
     "metadata": {},
     "output_type": "execute_result"
    }
   ],
   "source": [
    "cross_acc"
   ]
  },
  {
   "cell_type": "code",
   "execution_count": 493,
   "metadata": {},
   "outputs": [
    {
     "data": {
      "text/plain": [
       "0.9098871610626752"
      ]
     },
     "execution_count": 493,
     "metadata": {},
     "output_type": "execute_result"
    }
   ],
   "source": [
    "cross_acc.mean()   "
   ]
  },
  {
   "cell_type": "markdown",
   "metadata": {},
   "source": [
    "## Grid Search Tuning"
   ]
  },
  {
   "cell_type": "code",
   "execution_count": 494,
   "metadata": {},
   "outputs": [],
   "source": [
    "pipeline_opt = make_pipeline(preprosessor, RandomForestRegressor())  #an unfitted model"
   ]
  },
  {
   "cell_type": "code",
   "execution_count": 495,
   "metadata": {},
   "outputs": [
    {
     "name": "stdout",
     "output_type": "stream",
     "text": [
      "{'columntransformer': ColumnTransformer(transformers=[('do_nothing', 'passthrough',\n",
      "                                 ['holiday', 'workingday', 'season', 'weather',\n",
      "                                  'windspeed', 'temp', 'humidity']),\n",
      "                                ('time_extact',\n",
      "                                 FunctionTransformer(func=<function extract at 0x7fa61f6e6af0>),\n",
      "                                 ['datetime'])]),\n",
      " 'columntransformer__do_nothing': 'passthrough',\n",
      " 'columntransformer__n_jobs': None,\n",
      " 'columntransformer__remainder': 'drop',\n",
      " 'columntransformer__sparse_threshold': 0.3,\n",
      " 'columntransformer__time_extact': FunctionTransformer(func=<function extract at 0x7fa61f6e6af0>),\n",
      " 'columntransformer__time_extact__accept_sparse': False,\n",
      " 'columntransformer__time_extact__check_inverse': True,\n",
      " 'columntransformer__time_extact__func': <function extract at 0x7fa61f6e6af0>,\n",
      " 'columntransformer__time_extact__inv_kw_args': None,\n",
      " 'columntransformer__time_extact__inverse_func': None,\n",
      " 'columntransformer__time_extact__kw_args': None,\n",
      " 'columntransformer__time_extact__validate': False,\n",
      " 'columntransformer__transformer_weights': None,\n",
      " 'columntransformer__transformers': [('do_nothing',\n",
      "                                      'passthrough',\n",
      "                                      ['holiday',\n",
      "                                       'workingday',\n",
      "                                       'season',\n",
      "                                       'weather',\n",
      "                                       'windspeed',\n",
      "                                       'temp',\n",
      "                                       'humidity']),\n",
      "                                     ('time_extact',\n",
      "                                      FunctionTransformer(func=<function extract at 0x7fa61f6e6af0>),\n",
      "                                      ['datetime'])],\n",
      " 'columntransformer__verbose': False,\n",
      " 'memory': None,\n",
      " 'randomforestregressor': RandomForestRegressor(),\n",
      " 'randomforestregressor__bootstrap': True,\n",
      " 'randomforestregressor__ccp_alpha': 0.0,\n",
      " 'randomforestregressor__criterion': 'mse',\n",
      " 'randomforestregressor__max_depth': None,\n",
      " 'randomforestregressor__max_features': 'auto',\n",
      " 'randomforestregressor__max_leaf_nodes': None,\n",
      " 'randomforestregressor__max_samples': None,\n",
      " 'randomforestregressor__min_impurity_decrease': 0.0,\n",
      " 'randomforestregressor__min_impurity_split': None,\n",
      " 'randomforestregressor__min_samples_leaf': 1,\n",
      " 'randomforestregressor__min_samples_split': 2,\n",
      " 'randomforestregressor__min_weight_fraction_leaf': 0.0,\n",
      " 'randomforestregressor__n_estimators': 100,\n",
      " 'randomforestregressor__n_jobs': None,\n",
      " 'randomforestregressor__oob_score': False,\n",
      " 'randomforestregressor__random_state': None,\n",
      " 'randomforestregressor__verbose': 0,\n",
      " 'randomforestregressor__warm_start': False,\n",
      " 'steps': [('columntransformer',\n",
      "            ColumnTransformer(transformers=[('do_nothing', 'passthrough',\n",
      "                                 ['holiday', 'workingday', 'season', 'weather',\n",
      "                                  'windspeed', 'temp', 'humidity']),\n",
      "                                ('time_extact',\n",
      "                                 FunctionTransformer(func=<function extract at 0x7fa61f6e6af0>),\n",
      "                                 ['datetime'])])),\n",
      "           ('randomforestregressor', RandomForestRegressor())],\n",
      " 'verbose': False}\n"
     ]
    }
   ],
   "source": [
    "pprint(pipeline.get_params())"
   ]
  },
  {
   "cell_type": "code",
   "execution_count": 496,
   "metadata": {},
   "outputs": [],
   "source": [
    "# define our hyperparameters to combine\n",
    "hyperparam_grid = {\n",
    "    'randomforestregressor__max_depth': [2, 5, 10, 20, 30],\n",
    "    'randomforestregressor__n_estimators': [5, 10, 50, 100, 200],\n",
    "    'randomforestregressor__min_samples_leaf': [1,5,10]\n",
    "}\n"
   ]
  },
  {
   "cell_type": "code",
   "execution_count": 497,
   "metadata": {},
   "outputs": [],
   "source": [
    "grid_cv = GridSearchCV(estimator=pipeline_opt,            # unfitted model/estimator\n",
    "                       param_grid=hyperparam_grid,  # hyperparameters dict\n",
    "                       cv=5,                        # number of folds, k\n",
    "                       scoring='r2')                # scoring metric"
   ]
  },
  {
   "cell_type": "code",
   "execution_count": 498,
   "metadata": {},
   "outputs": [
    {
     "data": {
      "text/plain": [
       "GridSearchCV(cv=5,\n",
       "             estimator=Pipeline(steps=[('columntransformer',\n",
       "                                        ColumnTransformer(transformers=[('do_nothing',\n",
       "                                                                         'passthrough',\n",
       "                                                                         ['holiday',\n",
       "                                                                          'workingday',\n",
       "                                                                          'season',\n",
       "                                                                          'weather',\n",
       "                                                                          'windspeed',\n",
       "                                                                          'temp',\n",
       "                                                                          'humidity']),\n",
       "                                                                        ('time_extact',\n",
       "                                                                         FunctionTransformer(func=<function extract at 0x7fa61f6e6af0>),\n",
       "                                                                         ['datetime'])])),\n",
       "                                       ('randomforestregressor',\n",
       "                                        RandomForestRegressor())]),\n",
       "             param_grid={'randomforestregressor__max_depth': [2, 5, 10, 20, 30],\n",
       "                         'randomforestregressor__min_samples_leaf': [1, 5, 10],\n",
       "                         'randomforestregressor__n_estimators': [5, 10, 50, 100,\n",
       "                                                                 200]},\n",
       "             scoring='r2')"
      ]
     },
     "execution_count": 498,
     "metadata": {},
     "output_type": "execute_result"
    }
   ],
   "source": [
    "# fit all models with all the different hyperparamters\n",
    "grid_cv.fit(X_train, y_train)"
   ]
  },
  {
   "cell_type": "code",
   "execution_count": 499,
   "metadata": {},
   "outputs": [],
   "source": [
    "results_df = pd.DataFrame(grid_cv.cv_results_)"
   ]
  },
  {
   "cell_type": "code",
   "execution_count": 500,
   "metadata": {},
   "outputs": [
    {
     "data": {
      "text/html": [
       "<div>\n",
       "<style scoped>\n",
       "    .dataframe tbody tr th:only-of-type {\n",
       "        vertical-align: middle;\n",
       "    }\n",
       "\n",
       "    .dataframe tbody tr th {\n",
       "        vertical-align: top;\n",
       "    }\n",
       "\n",
       "    .dataframe thead th {\n",
       "        text-align: right;\n",
       "    }\n",
       "</style>\n",
       "<table border=\"1\" class=\"dataframe\">\n",
       "  <thead>\n",
       "    <tr style=\"text-align: right;\">\n",
       "      <th></th>\n",
       "      <th>mean_fit_time</th>\n",
       "      <th>std_fit_time</th>\n",
       "      <th>mean_score_time</th>\n",
       "      <th>std_score_time</th>\n",
       "      <th>param_randomforestregressor__max_depth</th>\n",
       "      <th>param_randomforestregressor__min_samples_leaf</th>\n",
       "      <th>param_randomforestregressor__n_estimators</th>\n",
       "      <th>params</th>\n",
       "      <th>split0_test_score</th>\n",
       "      <th>split1_test_score</th>\n",
       "      <th>split2_test_score</th>\n",
       "      <th>split3_test_score</th>\n",
       "      <th>split4_test_score</th>\n",
       "      <th>mean_test_score</th>\n",
       "      <th>std_test_score</th>\n",
       "      <th>rank_test_score</th>\n",
       "    </tr>\n",
       "  </thead>\n",
       "  <tbody>\n",
       "    <tr>\n",
       "      <th>0</th>\n",
       "      <td>0.028994</td>\n",
       "      <td>0.003418</td>\n",
       "      <td>0.006879</td>\n",
       "      <td>0.000418</td>\n",
       "      <td>2</td>\n",
       "      <td>1</td>\n",
       "      <td>5</td>\n",
       "      <td>{'randomforestregressor__max_depth': 2, 'rando...</td>\n",
       "      <td>0.246247</td>\n",
       "      <td>0.248602</td>\n",
       "      <td>0.250035</td>\n",
       "      <td>0.271167</td>\n",
       "      <td>0.211773</td>\n",
       "      <td>0.245565</td>\n",
       "      <td>0.019116</td>\n",
       "      <td>74</td>\n",
       "    </tr>\n",
       "    <tr>\n",
       "      <th>1</th>\n",
       "      <td>0.040394</td>\n",
       "      <td>0.000752</td>\n",
       "      <td>0.006704</td>\n",
       "      <td>0.000172</td>\n",
       "      <td>2</td>\n",
       "      <td>1</td>\n",
       "      <td>10</td>\n",
       "      <td>{'randomforestregressor__max_depth': 2, 'rando...</td>\n",
       "      <td>0.283824</td>\n",
       "      <td>0.283506</td>\n",
       "      <td>0.252518</td>\n",
       "      <td>0.267878</td>\n",
       "      <td>0.272504</td>\n",
       "      <td>0.272046</td>\n",
       "      <td>0.011567</td>\n",
       "      <td>72</td>\n",
       "    </tr>\n",
       "    <tr>\n",
       "      <th>2</th>\n",
       "      <td>0.159409</td>\n",
       "      <td>0.000505</td>\n",
       "      <td>0.008589</td>\n",
       "      <td>0.000161</td>\n",
       "      <td>2</td>\n",
       "      <td>1</td>\n",
       "      <td>50</td>\n",
       "      <td>{'randomforestregressor__max_depth': 2, 'rando...</td>\n",
       "      <td>0.294218</td>\n",
       "      <td>0.300291</td>\n",
       "      <td>0.264357</td>\n",
       "      <td>0.295691</td>\n",
       "      <td>0.270107</td>\n",
       "      <td>0.284933</td>\n",
       "      <td>0.014704</td>\n",
       "      <td>66</td>\n",
       "    </tr>\n",
       "    <tr>\n",
       "      <th>3</th>\n",
       "      <td>0.317814</td>\n",
       "      <td>0.011550</td>\n",
       "      <td>0.012630</td>\n",
       "      <td>0.001976</td>\n",
       "      <td>2</td>\n",
       "      <td>1</td>\n",
       "      <td>100</td>\n",
       "      <td>{'randomforestregressor__max_depth': 2, 'rando...</td>\n",
       "      <td>0.295390</td>\n",
       "      <td>0.297913</td>\n",
       "      <td>0.263354</td>\n",
       "      <td>0.288876</td>\n",
       "      <td>0.278893</td>\n",
       "      <td>0.284885</td>\n",
       "      <td>0.012614</td>\n",
       "      <td>67</td>\n",
       "    </tr>\n",
       "    <tr>\n",
       "      <th>4</th>\n",
       "      <td>0.672970</td>\n",
       "      <td>0.049444</td>\n",
       "      <td>0.017005</td>\n",
       "      <td>0.001683</td>\n",
       "      <td>2</td>\n",
       "      <td>1</td>\n",
       "      <td>200</td>\n",
       "      <td>{'randomforestregressor__max_depth': 2, 'rando...</td>\n",
       "      <td>0.292835</td>\n",
       "      <td>0.294829</td>\n",
       "      <td>0.268503</td>\n",
       "      <td>0.289536</td>\n",
       "      <td>0.277177</td>\n",
       "      <td>0.284576</td>\n",
       "      <td>0.010110</td>\n",
       "      <td>68</td>\n",
       "    </tr>\n",
       "    <tr>\n",
       "      <th>...</th>\n",
       "      <td>...</td>\n",
       "      <td>...</td>\n",
       "      <td>...</td>\n",
       "      <td>...</td>\n",
       "      <td>...</td>\n",
       "      <td>...</td>\n",
       "      <td>...</td>\n",
       "      <td>...</td>\n",
       "      <td>...</td>\n",
       "      <td>...</td>\n",
       "      <td>...</td>\n",
       "      <td>...</td>\n",
       "      <td>...</td>\n",
       "      <td>...</td>\n",
       "      <td>...</td>\n",
       "      <td>...</td>\n",
       "    </tr>\n",
       "    <tr>\n",
       "      <th>70</th>\n",
       "      <td>0.091454</td>\n",
       "      <td>0.000852</td>\n",
       "      <td>0.006987</td>\n",
       "      <td>0.000093</td>\n",
       "      <td>30</td>\n",
       "      <td>10</td>\n",
       "      <td>5</td>\n",
       "      <td>{'randomforestregressor__max_depth': 30, 'rand...</td>\n",
       "      <td>0.803104</td>\n",
       "      <td>0.813399</td>\n",
       "      <td>0.820307</td>\n",
       "      <td>0.817684</td>\n",
       "      <td>0.805108</td>\n",
       "      <td>0.811920</td>\n",
       "      <td>0.006780</td>\n",
       "      <td>30</td>\n",
       "    </tr>\n",
       "    <tr>\n",
       "      <th>71</th>\n",
       "      <td>0.173181</td>\n",
       "      <td>0.001675</td>\n",
       "      <td>0.007951</td>\n",
       "      <td>0.000142</td>\n",
       "      <td>30</td>\n",
       "      <td>10</td>\n",
       "      <td>10</td>\n",
       "      <td>{'randomforestregressor__max_depth': 30, 'rand...</td>\n",
       "      <td>0.798546</td>\n",
       "      <td>0.837685</td>\n",
       "      <td>0.835430</td>\n",
       "      <td>0.834759</td>\n",
       "      <td>0.815018</td>\n",
       "      <td>0.824288</td>\n",
       "      <td>0.015244</td>\n",
       "      <td>27</td>\n",
       "    </tr>\n",
       "    <tr>\n",
       "      <th>72</th>\n",
       "      <td>0.839746</td>\n",
       "      <td>0.012812</td>\n",
       "      <td>0.015588</td>\n",
       "      <td>0.000792</td>\n",
       "      <td>30</td>\n",
       "      <td>10</td>\n",
       "      <td>50</td>\n",
       "      <td>{'randomforestregressor__max_depth': 30, 'rand...</td>\n",
       "      <td>0.810376</td>\n",
       "      <td>0.845350</td>\n",
       "      <td>0.836404</td>\n",
       "      <td>0.841804</td>\n",
       "      <td>0.830399</td>\n",
       "      <td>0.832867</td>\n",
       "      <td>0.012330</td>\n",
       "      <td>23</td>\n",
       "    </tr>\n",
       "    <tr>\n",
       "      <th>73</th>\n",
       "      <td>1.673775</td>\n",
       "      <td>0.029453</td>\n",
       "      <td>0.023951</td>\n",
       "      <td>0.000683</td>\n",
       "      <td>30</td>\n",
       "      <td>10</td>\n",
       "      <td>100</td>\n",
       "      <td>{'randomforestregressor__max_depth': 30, 'rand...</td>\n",
       "      <td>0.810200</td>\n",
       "      <td>0.843958</td>\n",
       "      <td>0.841592</td>\n",
       "      <td>0.845194</td>\n",
       "      <td>0.828766</td>\n",
       "      <td>0.833942</td>\n",
       "      <td>0.013236</td>\n",
       "      <td>22</td>\n",
       "    </tr>\n",
       "    <tr>\n",
       "      <th>74</th>\n",
       "      <td>3.328209</td>\n",
       "      <td>0.044104</td>\n",
       "      <td>0.043532</td>\n",
       "      <td>0.003194</td>\n",
       "      <td>30</td>\n",
       "      <td>10</td>\n",
       "      <td>200</td>\n",
       "      <td>{'randomforestregressor__max_depth': 30, 'rand...</td>\n",
       "      <td>0.815202</td>\n",
       "      <td>0.842688</td>\n",
       "      <td>0.841843</td>\n",
       "      <td>0.847808</td>\n",
       "      <td>0.826822</td>\n",
       "      <td>0.834873</td>\n",
       "      <td>0.012073</td>\n",
       "      <td>21</td>\n",
       "    </tr>\n",
       "  </tbody>\n",
       "</table>\n",
       "<p>75 rows × 16 columns</p>\n",
       "</div>"
      ],
      "text/plain": [
       "    mean_fit_time  std_fit_time  mean_score_time  std_score_time  \\\n",
       "0        0.028994      0.003418         0.006879        0.000418   \n",
       "1        0.040394      0.000752         0.006704        0.000172   \n",
       "2        0.159409      0.000505         0.008589        0.000161   \n",
       "3        0.317814      0.011550         0.012630        0.001976   \n",
       "4        0.672970      0.049444         0.017005        0.001683   \n",
       "..            ...           ...              ...             ...   \n",
       "70       0.091454      0.000852         0.006987        0.000093   \n",
       "71       0.173181      0.001675         0.007951        0.000142   \n",
       "72       0.839746      0.012812         0.015588        0.000792   \n",
       "73       1.673775      0.029453         0.023951        0.000683   \n",
       "74       3.328209      0.044104         0.043532        0.003194   \n",
       "\n",
       "   param_randomforestregressor__max_depth  \\\n",
       "0                                       2   \n",
       "1                                       2   \n",
       "2                                       2   \n",
       "3                                       2   \n",
       "4                                       2   \n",
       "..                                    ...   \n",
       "70                                     30   \n",
       "71                                     30   \n",
       "72                                     30   \n",
       "73                                     30   \n",
       "74                                     30   \n",
       "\n",
       "   param_randomforestregressor__min_samples_leaf  \\\n",
       "0                                              1   \n",
       "1                                              1   \n",
       "2                                              1   \n",
       "3                                              1   \n",
       "4                                              1   \n",
       "..                                           ...   \n",
       "70                                            10   \n",
       "71                                            10   \n",
       "72                                            10   \n",
       "73                                            10   \n",
       "74                                            10   \n",
       "\n",
       "   param_randomforestregressor__n_estimators  \\\n",
       "0                                          5   \n",
       "1                                         10   \n",
       "2                                         50   \n",
       "3                                        100   \n",
       "4                                        200   \n",
       "..                                       ...   \n",
       "70                                         5   \n",
       "71                                        10   \n",
       "72                                        50   \n",
       "73                                       100   \n",
       "74                                       200   \n",
       "\n",
       "                                               params  split0_test_score  \\\n",
       "0   {'randomforestregressor__max_depth': 2, 'rando...           0.246247   \n",
       "1   {'randomforestregressor__max_depth': 2, 'rando...           0.283824   \n",
       "2   {'randomforestregressor__max_depth': 2, 'rando...           0.294218   \n",
       "3   {'randomforestregressor__max_depth': 2, 'rando...           0.295390   \n",
       "4   {'randomforestregressor__max_depth': 2, 'rando...           0.292835   \n",
       "..                                                ...                ...   \n",
       "70  {'randomforestregressor__max_depth': 30, 'rand...           0.803104   \n",
       "71  {'randomforestregressor__max_depth': 30, 'rand...           0.798546   \n",
       "72  {'randomforestregressor__max_depth': 30, 'rand...           0.810376   \n",
       "73  {'randomforestregressor__max_depth': 30, 'rand...           0.810200   \n",
       "74  {'randomforestregressor__max_depth': 30, 'rand...           0.815202   \n",
       "\n",
       "    split1_test_score  split2_test_score  split3_test_score  \\\n",
       "0            0.248602           0.250035           0.271167   \n",
       "1            0.283506           0.252518           0.267878   \n",
       "2            0.300291           0.264357           0.295691   \n",
       "3            0.297913           0.263354           0.288876   \n",
       "4            0.294829           0.268503           0.289536   \n",
       "..                ...                ...                ...   \n",
       "70           0.813399           0.820307           0.817684   \n",
       "71           0.837685           0.835430           0.834759   \n",
       "72           0.845350           0.836404           0.841804   \n",
       "73           0.843958           0.841592           0.845194   \n",
       "74           0.842688           0.841843           0.847808   \n",
       "\n",
       "    split4_test_score  mean_test_score  std_test_score  rank_test_score  \n",
       "0            0.211773         0.245565        0.019116               74  \n",
       "1            0.272504         0.272046        0.011567               72  \n",
       "2            0.270107         0.284933        0.014704               66  \n",
       "3            0.278893         0.284885        0.012614               67  \n",
       "4            0.277177         0.284576        0.010110               68  \n",
       "..                ...              ...             ...              ...  \n",
       "70           0.805108         0.811920        0.006780               30  \n",
       "71           0.815018         0.824288        0.015244               27  \n",
       "72           0.830399         0.832867        0.012330               23  \n",
       "73           0.828766         0.833942        0.013236               22  \n",
       "74           0.826822         0.834873        0.012073               21  \n",
       "\n",
       "[75 rows x 16 columns]"
      ]
     },
     "execution_count": 500,
     "metadata": {},
     "output_type": "execute_result"
    }
   ],
   "source": [
    "results_df"
   ]
  },
  {
   "cell_type": "code",
   "execution_count": 501,
   "metadata": {},
   "outputs": [
    {
     "data": {
      "text/plain": [
       "(75, 16)"
      ]
     },
     "execution_count": 501,
     "metadata": {},
     "output_type": "execute_result"
    }
   ],
   "source": [
    "results_df.shape"
   ]
  },
  {
   "cell_type": "code",
   "execution_count": 502,
   "metadata": {},
   "outputs": [
    {
     "data": {
      "text/plain": [
       "Index(['mean_fit_time', 'std_fit_time', 'mean_score_time', 'std_score_time',\n",
       "       'param_randomforestregressor__max_depth',\n",
       "       'param_randomforestregressor__min_samples_leaf',\n",
       "       'param_randomforestregressor__n_estimators', 'params',\n",
       "       'split0_test_score', 'split1_test_score', 'split2_test_score',\n",
       "       'split3_test_score', 'split4_test_score', 'mean_test_score',\n",
       "       'std_test_score', 'rank_test_score'],\n",
       "      dtype='object')"
      ]
     },
     "execution_count": 502,
     "metadata": {},
     "output_type": "execute_result"
    }
   ],
   "source": [
    "results_df.columns"
   ]
  },
  {
   "cell_type": "code",
   "execution_count": 503,
   "metadata": {},
   "outputs": [
    {
     "data": {
      "text/html": [
       "<div>\n",
       "<style scoped>\n",
       "    .dataframe tbody tr th:only-of-type {\n",
       "        vertical-align: middle;\n",
       "    }\n",
       "\n",
       "    .dataframe tbody tr th {\n",
       "        vertical-align: top;\n",
       "    }\n",
       "\n",
       "    .dataframe thead th {\n",
       "        text-align: right;\n",
       "    }\n",
       "</style>\n",
       "<table border=\"1\" class=\"dataframe\">\n",
       "  <thead>\n",
       "    <tr style=\"text-align: right;\">\n",
       "      <th></th>\n",
       "      <th>param_randomforestregressor__max_depth</th>\n",
       "      <th>param_randomforestregressor__min_samples_leaf</th>\n",
       "      <th>param_randomforestregressor__n_estimators</th>\n",
       "      <th>mean_test_score</th>\n",
       "      <th>std_test_score</th>\n",
       "      <th>rank_test_score</th>\n",
       "    </tr>\n",
       "  </thead>\n",
       "  <tbody>\n",
       "    <tr>\n",
       "      <th>64</th>\n",
       "      <td>30</td>\n",
       "      <td>1</td>\n",
       "      <td>200</td>\n",
       "      <td>0.910432</td>\n",
       "      <td>0.006339</td>\n",
       "      <td>1</td>\n",
       "    </tr>\n",
       "    <tr>\n",
       "      <th>63</th>\n",
       "      <td>30</td>\n",
       "      <td>1</td>\n",
       "      <td>100</td>\n",
       "      <td>0.908613</td>\n",
       "      <td>0.006011</td>\n",
       "      <td>2</td>\n",
       "    </tr>\n",
       "    <tr>\n",
       "      <th>62</th>\n",
       "      <td>30</td>\n",
       "      <td>1</td>\n",
       "      <td>50</td>\n",
       "      <td>0.908392</td>\n",
       "      <td>0.004652</td>\n",
       "      <td>3</td>\n",
       "    </tr>\n",
       "    <tr>\n",
       "      <th>49</th>\n",
       "      <td>20</td>\n",
       "      <td>1</td>\n",
       "      <td>200</td>\n",
       "      <td>0.897152</td>\n",
       "      <td>0.006445</td>\n",
       "      <td>4</td>\n",
       "    </tr>\n",
       "    <tr>\n",
       "      <th>48</th>\n",
       "      <td>20</td>\n",
       "      <td>1</td>\n",
       "      <td>100</td>\n",
       "      <td>0.896824</td>\n",
       "      <td>0.006254</td>\n",
       "      <td>5</td>\n",
       "    </tr>\n",
       "    <tr>\n",
       "      <th>...</th>\n",
       "      <td>...</td>\n",
       "      <td>...</td>\n",
       "      <td>...</td>\n",
       "      <td>...</td>\n",
       "      <td>...</td>\n",
       "      <td>...</td>\n",
       "    </tr>\n",
       "    <tr>\n",
       "      <th>6</th>\n",
       "      <td>2</td>\n",
       "      <td>5</td>\n",
       "      <td>10</td>\n",
       "      <td>0.276570</td>\n",
       "      <td>0.015988</td>\n",
       "      <td>71</td>\n",
       "    </tr>\n",
       "    <tr>\n",
       "      <th>1</th>\n",
       "      <td>2</td>\n",
       "      <td>1</td>\n",
       "      <td>10</td>\n",
       "      <td>0.272046</td>\n",
       "      <td>0.011567</td>\n",
       "      <td>72</td>\n",
       "    </tr>\n",
       "    <tr>\n",
       "      <th>10</th>\n",
       "      <td>2</td>\n",
       "      <td>10</td>\n",
       "      <td>5</td>\n",
       "      <td>0.271503</td>\n",
       "      <td>0.016377</td>\n",
       "      <td>73</td>\n",
       "    </tr>\n",
       "    <tr>\n",
       "      <th>0</th>\n",
       "      <td>2</td>\n",
       "      <td>1</td>\n",
       "      <td>5</td>\n",
       "      <td>0.245565</td>\n",
       "      <td>0.019116</td>\n",
       "      <td>74</td>\n",
       "    </tr>\n",
       "    <tr>\n",
       "      <th>5</th>\n",
       "      <td>2</td>\n",
       "      <td>5</td>\n",
       "      <td>5</td>\n",
       "      <td>0.228599</td>\n",
       "      <td>0.017325</td>\n",
       "      <td>75</td>\n",
       "    </tr>\n",
       "  </tbody>\n",
       "</table>\n",
       "<p>75 rows × 6 columns</p>\n",
       "</div>"
      ],
      "text/plain": [
       "   param_randomforestregressor__max_depth  \\\n",
       "64                                     30   \n",
       "63                                     30   \n",
       "62                                     30   \n",
       "49                                     20   \n",
       "48                                     20   \n",
       "..                                    ...   \n",
       "6                                       2   \n",
       "1                                       2   \n",
       "10                                      2   \n",
       "0                                       2   \n",
       "5                                       2   \n",
       "\n",
       "   param_randomforestregressor__min_samples_leaf  \\\n",
       "64                                             1   \n",
       "63                                             1   \n",
       "62                                             1   \n",
       "49                                             1   \n",
       "48                                             1   \n",
       "..                                           ...   \n",
       "6                                              5   \n",
       "1                                              1   \n",
       "10                                            10   \n",
       "0                                              1   \n",
       "5                                              5   \n",
       "\n",
       "   param_randomforestregressor__n_estimators  mean_test_score  std_test_score  \\\n",
       "64                                       200         0.910432        0.006339   \n",
       "63                                       100         0.908613        0.006011   \n",
       "62                                        50         0.908392        0.004652   \n",
       "49                                       200         0.897152        0.006445   \n",
       "48                                       100         0.896824        0.006254   \n",
       "..                                       ...              ...             ...   \n",
       "6                                         10         0.276570        0.015988   \n",
       "1                                         10         0.272046        0.011567   \n",
       "10                                         5         0.271503        0.016377   \n",
       "0                                          5         0.245565        0.019116   \n",
       "5                                          5         0.228599        0.017325   \n",
       "\n",
       "    rank_test_score  \n",
       "64                1  \n",
       "63                2  \n",
       "62                3  \n",
       "49                4  \n",
       "48                5  \n",
       "..              ...  \n",
       "6                71  \n",
       "1                72  \n",
       "10               73  \n",
       "0                74  \n",
       "5                75  \n",
       "\n",
       "[75 rows x 6 columns]"
      ]
     },
     "execution_count": 503,
     "metadata": {},
     "output_type": "execute_result"
    }
   ],
   "source": [
    "results_df[['param_randomforestregressor__max_depth', 'param_randomforestregressor__min_samples_leaf', 'param_randomforestregressor__n_estimators', 'mean_test_score',\n",
    "       'std_test_score', 'rank_test_score']].sort_values('rank_test_score')"
   ]
  },
  {
   "cell_type": "code",
   "execution_count": 504,
   "metadata": {},
   "outputs": [
    {
     "data": {
      "text/plain": [
       "{'randomforestregressor__max_depth': 30,\n",
       " 'randomforestregressor__min_samples_leaf': 1,\n",
       " 'randomforestregressor__n_estimators': 200}"
      ]
     },
     "execution_count": 504,
     "metadata": {},
     "output_type": "execute_result"
    }
   ],
   "source": [
    "grid_cv.best_params_  "
   ]
  },
  {
   "cell_type": "code",
   "execution_count": 505,
   "metadata": {},
   "outputs": [],
   "source": [
    "#estimating the test performance after tuning\n",
    "pipeline_best = make_pipeline(preprosessor,RandomForestRegressor(max_depth=30, n_estimators=200, min_samples_leaf=1))\n",
    "\n",
    "cross_acc = cross_val_score(estimator=pipeline_best,  # estimator: # the model you want to evaluate \n",
    "                            X=X_train,          # the training input data \n",
    "                            y=y_train,          # the training output data  \n",
    "                            cv=5,               # number of cross validation datasets, k   \n",
    "                            scoring='r2')       # evaluation metric "
   ]
  },
  {
   "cell_type": "code",
   "execution_count": 506,
   "metadata": {},
   "outputs": [
    {
     "data": {
      "text/plain": [
       "array([0.90140163, 0.91152532, 0.91347642, 0.91941531, 0.90155798])"
      ]
     },
     "execution_count": 506,
     "metadata": {},
     "output_type": "execute_result"
    }
   ],
   "source": [
    "cross_acc"
   ]
  },
  {
   "cell_type": "code",
   "execution_count": 507,
   "metadata": {},
   "outputs": [
    {
     "data": {
      "text/plain": [
       "0.9094753311830374"
      ]
     },
     "execution_count": 507,
     "metadata": {},
     "output_type": "execute_result"
    }
   ],
   "source": [
    "cross_acc.mean()"
   ]
  },
  {
   "cell_type": "code",
   "execution_count": 508,
   "metadata": {},
   "outputs": [
    {
     "data": {
      "text/plain": [
       "Pipeline(steps=[('columntransformer',\n",
       "                 ColumnTransformer(transformers=[('do_nothing', 'passthrough',\n",
       "                                                  ['holiday', 'workingday',\n",
       "                                                   'season', 'weather',\n",
       "                                                   'windspeed', 'temp',\n",
       "                                                   'humidity']),\n",
       "                                                 ('time_extact',\n",
       "                                                  FunctionTransformer(func=<function extract at 0x7fa61f6e6af0>),\n",
       "                                                  ['datetime'])])),\n",
       "                ('randomforestregressor',\n",
       "                 RandomForestRegressor(max_depth=30, n_estimators=200))])"
      ]
     },
     "execution_count": 508,
     "metadata": {},
     "output_type": "execute_result"
    }
   ],
   "source": [
    "pipeline_best.fit(X_train, y_train)"
   ]
  },
  {
   "cell_type": "code",
   "execution_count": 509,
   "metadata": {},
   "outputs": [
    {
     "data": {
      "text/plain": [
       "0.9883585215366099"
      ]
     },
     "execution_count": 509,
     "metadata": {},
     "output_type": "execute_result"
    }
   ],
   "source": [
    "pipeline_best.score(X_train, y_train)"
   ]
  },
  {
   "cell_type": "code",
   "execution_count": 510,
   "metadata": {},
   "outputs": [
    {
     "data": {
      "text/plain": [
       "0.9268973365789074"
      ]
     },
     "execution_count": 510,
     "metadata": {},
     "output_type": "execute_result"
    }
   ],
   "source": [
    "pipeline_best.score(X_test, y_test)\n",
    "## After grid search tuning, R^2 score is improved to 89.88% from 88.09..."
   ]
  },
  {
   "cell_type": "markdown",
   "metadata": {},
   "source": [
    "## RMSLE"
   ]
  },
  {
   "cell_type": "code",
   "execution_count": 511,
   "metadata": {},
   "outputs": [],
   "source": [
    "def rmsle(y_pred, y,convertExp=True):\n",
    "    if convertExp:\n",
    "        y_pred = np.exp(y_pred),\n",
    "        y = np.exp(y)\n",
    "    log1 = np.nan_to_num(np.array([np.log(v + 1) for v in y_pred]))\n",
    "    log2 = np.nan_to_num(np.array([np.log(v + 1) for v in y]))\n",
    "    calc = (log1 - log2) ** 2\n",
    "    return np.sqrt(np.mean(calc))"
   ]
  },
  {
   "cell_type": "code",
   "execution_count": 514,
   "metadata": {},
   "outputs": [],
   "source": [
    "y_pred = pipeline_best.predict(X_train) "
   ]
  },
  {
   "cell_type": "code",
   "execution_count": 515,
   "metadata": {},
   "outputs": [
    {
     "name": "stderr",
     "output_type": "stream",
     "text": [
      "/var/folders/fs/bmr1lyws1dx3sp07l0gytvmc0000gn/T/ipykernel_81403/1284209182.py:3: RuntimeWarning: overflow encountered in exp\n",
      "  y_pred = np.exp(y_pred),\n",
      "/opt/anaconda3/lib/python3.8/site-packages/pandas/core/arraylike.py:364: RuntimeWarning: overflow encountered in exp\n",
      "  result = getattr(ufunc, method)(*inputs, **kwargs)\n",
      "/var/folders/fs/bmr1lyws1dx3sp07l0gytvmc0000gn/T/ipykernel_81403/1284209182.py:7: RuntimeWarning: overflow encountered in square\n",
      "  calc = (log1 - log2) ** 2\n"
     ]
    },
    {
     "data": {
      "text/plain": [
       "inf"
      ]
     },
     "execution_count": 515,
     "metadata": {},
     "output_type": "execute_result"
    }
   ],
   "source": [
    "rmsle(y_pred, y_train, convertExp=True)\n",
    "\n",
    "#doesn't work"
   ]
  },
  {
   "cell_type": "markdown",
   "metadata": {},
   "source": [
    "## Submission..."
   ]
  },
  {
   "cell_type": "code",
   "execution_count": 516,
   "metadata": {},
   "outputs": [],
   "source": [
    "kaggle_data = pd.read_csv('test.csv')"
   ]
  },
  {
   "cell_type": "code",
   "execution_count": 517,
   "metadata": {},
   "outputs": [
    {
     "data": {
      "text/html": [
       "<div>\n",
       "<style scoped>\n",
       "    .dataframe tbody tr th:only-of-type {\n",
       "        vertical-align: middle;\n",
       "    }\n",
       "\n",
       "    .dataframe tbody tr th {\n",
       "        vertical-align: top;\n",
       "    }\n",
       "\n",
       "    .dataframe thead th {\n",
       "        text-align: right;\n",
       "    }\n",
       "</style>\n",
       "<table border=\"1\" class=\"dataframe\">\n",
       "  <thead>\n",
       "    <tr style=\"text-align: right;\">\n",
       "      <th></th>\n",
       "      <th>datetime</th>\n",
       "      <th>season</th>\n",
       "      <th>holiday</th>\n",
       "      <th>workingday</th>\n",
       "      <th>weather</th>\n",
       "      <th>temp</th>\n",
       "      <th>atemp</th>\n",
       "      <th>humidity</th>\n",
       "      <th>windspeed</th>\n",
       "    </tr>\n",
       "  </thead>\n",
       "  <tbody>\n",
       "    <tr>\n",
       "      <th>0</th>\n",
       "      <td>2011-01-20 00:00:00</td>\n",
       "      <td>1</td>\n",
       "      <td>0</td>\n",
       "      <td>1</td>\n",
       "      <td>1</td>\n",
       "      <td>10.66</td>\n",
       "      <td>11.365</td>\n",
       "      <td>56</td>\n",
       "      <td>26.0027</td>\n",
       "    </tr>\n",
       "    <tr>\n",
       "      <th>1</th>\n",
       "      <td>2011-01-20 01:00:00</td>\n",
       "      <td>1</td>\n",
       "      <td>0</td>\n",
       "      <td>1</td>\n",
       "      <td>1</td>\n",
       "      <td>10.66</td>\n",
       "      <td>13.635</td>\n",
       "      <td>56</td>\n",
       "      <td>0.0000</td>\n",
       "    </tr>\n",
       "    <tr>\n",
       "      <th>2</th>\n",
       "      <td>2011-01-20 02:00:00</td>\n",
       "      <td>1</td>\n",
       "      <td>0</td>\n",
       "      <td>1</td>\n",
       "      <td>1</td>\n",
       "      <td>10.66</td>\n",
       "      <td>13.635</td>\n",
       "      <td>56</td>\n",
       "      <td>0.0000</td>\n",
       "    </tr>\n",
       "    <tr>\n",
       "      <th>3</th>\n",
       "      <td>2011-01-20 03:00:00</td>\n",
       "      <td>1</td>\n",
       "      <td>0</td>\n",
       "      <td>1</td>\n",
       "      <td>1</td>\n",
       "      <td>10.66</td>\n",
       "      <td>12.880</td>\n",
       "      <td>56</td>\n",
       "      <td>11.0014</td>\n",
       "    </tr>\n",
       "    <tr>\n",
       "      <th>4</th>\n",
       "      <td>2011-01-20 04:00:00</td>\n",
       "      <td>1</td>\n",
       "      <td>0</td>\n",
       "      <td>1</td>\n",
       "      <td>1</td>\n",
       "      <td>10.66</td>\n",
       "      <td>12.880</td>\n",
       "      <td>56</td>\n",
       "      <td>11.0014</td>\n",
       "    </tr>\n",
       "    <tr>\n",
       "      <th>...</th>\n",
       "      <td>...</td>\n",
       "      <td>...</td>\n",
       "      <td>...</td>\n",
       "      <td>...</td>\n",
       "      <td>...</td>\n",
       "      <td>...</td>\n",
       "      <td>...</td>\n",
       "      <td>...</td>\n",
       "      <td>...</td>\n",
       "    </tr>\n",
       "    <tr>\n",
       "      <th>6488</th>\n",
       "      <td>2012-12-31 19:00:00</td>\n",
       "      <td>1</td>\n",
       "      <td>0</td>\n",
       "      <td>1</td>\n",
       "      <td>2</td>\n",
       "      <td>10.66</td>\n",
       "      <td>12.880</td>\n",
       "      <td>60</td>\n",
       "      <td>11.0014</td>\n",
       "    </tr>\n",
       "    <tr>\n",
       "      <th>6489</th>\n",
       "      <td>2012-12-31 20:00:00</td>\n",
       "      <td>1</td>\n",
       "      <td>0</td>\n",
       "      <td>1</td>\n",
       "      <td>2</td>\n",
       "      <td>10.66</td>\n",
       "      <td>12.880</td>\n",
       "      <td>60</td>\n",
       "      <td>11.0014</td>\n",
       "    </tr>\n",
       "    <tr>\n",
       "      <th>6490</th>\n",
       "      <td>2012-12-31 21:00:00</td>\n",
       "      <td>1</td>\n",
       "      <td>0</td>\n",
       "      <td>1</td>\n",
       "      <td>1</td>\n",
       "      <td>10.66</td>\n",
       "      <td>12.880</td>\n",
       "      <td>60</td>\n",
       "      <td>11.0014</td>\n",
       "    </tr>\n",
       "    <tr>\n",
       "      <th>6491</th>\n",
       "      <td>2012-12-31 22:00:00</td>\n",
       "      <td>1</td>\n",
       "      <td>0</td>\n",
       "      <td>1</td>\n",
       "      <td>1</td>\n",
       "      <td>10.66</td>\n",
       "      <td>13.635</td>\n",
       "      <td>56</td>\n",
       "      <td>8.9981</td>\n",
       "    </tr>\n",
       "    <tr>\n",
       "      <th>6492</th>\n",
       "      <td>2012-12-31 23:00:00</td>\n",
       "      <td>1</td>\n",
       "      <td>0</td>\n",
       "      <td>1</td>\n",
       "      <td>1</td>\n",
       "      <td>10.66</td>\n",
       "      <td>13.635</td>\n",
       "      <td>65</td>\n",
       "      <td>8.9981</td>\n",
       "    </tr>\n",
       "  </tbody>\n",
       "</table>\n",
       "<p>6493 rows × 9 columns</p>\n",
       "</div>"
      ],
      "text/plain": [
       "                 datetime  season  holiday  workingday  weather   temp  \\\n",
       "0     2011-01-20 00:00:00       1        0           1        1  10.66   \n",
       "1     2011-01-20 01:00:00       1        0           1        1  10.66   \n",
       "2     2011-01-20 02:00:00       1        0           1        1  10.66   \n",
       "3     2011-01-20 03:00:00       1        0           1        1  10.66   \n",
       "4     2011-01-20 04:00:00       1        0           1        1  10.66   \n",
       "...                   ...     ...      ...         ...      ...    ...   \n",
       "6488  2012-12-31 19:00:00       1        0           1        2  10.66   \n",
       "6489  2012-12-31 20:00:00       1        0           1        2  10.66   \n",
       "6490  2012-12-31 21:00:00       1        0           1        1  10.66   \n",
       "6491  2012-12-31 22:00:00       1        0           1        1  10.66   \n",
       "6492  2012-12-31 23:00:00       1        0           1        1  10.66   \n",
       "\n",
       "       atemp  humidity  windspeed  \n",
       "0     11.365        56    26.0027  \n",
       "1     13.635        56     0.0000  \n",
       "2     13.635        56     0.0000  \n",
       "3     12.880        56    11.0014  \n",
       "4     12.880        56    11.0014  \n",
       "...      ...       ...        ...  \n",
       "6488  12.880        60    11.0014  \n",
       "6489  12.880        60    11.0014  \n",
       "6490  12.880        60    11.0014  \n",
       "6491  13.635        56     8.9981  \n",
       "6492  13.635        65     8.9981  \n",
       "\n",
       "[6493 rows x 9 columns]"
      ]
     },
     "execution_count": 517,
     "metadata": {},
     "output_type": "execute_result"
    }
   ],
   "source": [
    "kaggle_data"
   ]
  },
  {
   "cell_type": "code",
   "execution_count": 518,
   "metadata": {},
   "outputs": [],
   "source": [
    "predictions = pipeline_best.predict(kaggle_data)"
   ]
  },
  {
   "cell_type": "code",
   "execution_count": 519,
   "metadata": {},
   "outputs": [],
   "source": [
    "submission = pd.DataFrame({'datetime':kaggle_data['datetime'],'count':predictions})"
   ]
  },
  {
   "cell_type": "code",
   "execution_count": 520,
   "metadata": {},
   "outputs": [
    {
     "data": {
      "text/html": [
       "<div>\n",
       "<style scoped>\n",
       "    .dataframe tbody tr th:only-of-type {\n",
       "        vertical-align: middle;\n",
       "    }\n",
       "\n",
       "    .dataframe tbody tr th {\n",
       "        vertical-align: top;\n",
       "    }\n",
       "\n",
       "    .dataframe thead th {\n",
       "        text-align: right;\n",
       "    }\n",
       "</style>\n",
       "<table border=\"1\" class=\"dataframe\">\n",
       "  <thead>\n",
       "    <tr style=\"text-align: right;\">\n",
       "      <th></th>\n",
       "      <th>datetime</th>\n",
       "      <th>count</th>\n",
       "    </tr>\n",
       "  </thead>\n",
       "  <tbody>\n",
       "    <tr>\n",
       "      <th>0</th>\n",
       "      <td>2011-01-20 00:00:00</td>\n",
       "      <td>17.651531</td>\n",
       "    </tr>\n",
       "    <tr>\n",
       "      <th>1</th>\n",
       "      <td>2011-01-20 01:00:00</td>\n",
       "      <td>13.240093</td>\n",
       "    </tr>\n",
       "    <tr>\n",
       "      <th>2</th>\n",
       "      <td>2011-01-20 02:00:00</td>\n",
       "      <td>11.226552</td>\n",
       "    </tr>\n",
       "    <tr>\n",
       "      <th>3</th>\n",
       "      <td>2011-01-20 03:00:00</td>\n",
       "      <td>11.114487</td>\n",
       "    </tr>\n",
       "    <tr>\n",
       "      <th>4</th>\n",
       "      <td>2011-01-20 04:00:00</td>\n",
       "      <td>8.765409</td>\n",
       "    </tr>\n",
       "    <tr>\n",
       "      <th>...</th>\n",
       "      <td>...</td>\n",
       "      <td>...</td>\n",
       "    </tr>\n",
       "    <tr>\n",
       "      <th>6488</th>\n",
       "      <td>2012-12-31 19:00:00</td>\n",
       "      <td>193.958833</td>\n",
       "    </tr>\n",
       "    <tr>\n",
       "      <th>6489</th>\n",
       "      <td>2012-12-31 20:00:00</td>\n",
       "      <td>141.603019</td>\n",
       "    </tr>\n",
       "    <tr>\n",
       "      <th>6490</th>\n",
       "      <td>2012-12-31 21:00:00</td>\n",
       "      <td>122.017389</td>\n",
       "    </tr>\n",
       "    <tr>\n",
       "      <th>6491</th>\n",
       "      <td>2012-12-31 22:00:00</td>\n",
       "      <td>110.755012</td>\n",
       "    </tr>\n",
       "    <tr>\n",
       "      <th>6492</th>\n",
       "      <td>2012-12-31 23:00:00</td>\n",
       "      <td>59.461218</td>\n",
       "    </tr>\n",
       "  </tbody>\n",
       "</table>\n",
       "<p>6493 rows × 2 columns</p>\n",
       "</div>"
      ],
      "text/plain": [
       "                 datetime       count\n",
       "0     2011-01-20 00:00:00   17.651531\n",
       "1     2011-01-20 01:00:00   13.240093\n",
       "2     2011-01-20 02:00:00   11.226552\n",
       "3     2011-01-20 03:00:00   11.114487\n",
       "4     2011-01-20 04:00:00    8.765409\n",
       "...                   ...         ...\n",
       "6488  2012-12-31 19:00:00  193.958833\n",
       "6489  2012-12-31 20:00:00  141.603019\n",
       "6490  2012-12-31 21:00:00  122.017389\n",
       "6491  2012-12-31 22:00:00  110.755012\n",
       "6492  2012-12-31 23:00:00   59.461218\n",
       "\n",
       "[6493 rows x 2 columns]"
      ]
     },
     "execution_count": 520,
     "metadata": {},
     "output_type": "execute_result"
    }
   ],
   "source": [
    "submission"
   ]
  },
  {
   "cell_type": "code",
   "execution_count": 521,
   "metadata": {},
   "outputs": [
    {
     "name": "stdout",
     "output_type": "stream",
     "text": [
      "Saved file: Bike Sharing Demand RF.csv\n"
     ]
    }
   ],
   "source": [
    "#Convert DataFrame to a csv file that can be uploaded\n",
    "filename = 'Bike Sharing Demand RF.csv'\n",
    "submission.to_csv(filename,index=False)\n",
    "print('Saved file: ' + filename)        "
   ]
  },
  {
   "cell_type": "markdown",
   "metadata": {},
   "source": [
    "## Result"
   ]
  },
  {
   "cell_type": "markdown",
   "metadata": {},
   "source": [
    "## RMSLE on kaggle\n",
    "Linear Regression: 9.15764\n",
    "<br>\n",
    "Random Forest: 0.51937\n",
    "<br>\n",
    "Random Forest(after grid search): 0.57039\n",
    "<br>\n",
    "Random Forest(features added and after grid seatch): 0.60666 Used both R^2 and MSLE but return same best hyperparameters\n",
    "<br>\n",
    "R^2 score of test data(splitted from train.csv) were improved but RMLSE on kaggle became worse..."
   ]
  },
  {
   "cell_type": "code",
   "execution_count": null,
   "metadata": {},
   "outputs": [],
   "source": [
    "\n",
    "\n",
    "#END"
   ]
  },
  {
   "cell_type": "code",
   "execution_count": null,
   "metadata": {},
   "outputs": [],
   "source": []
  }
 ],
 "metadata": {
  "interpreter": {
   "hash": "40d3a090f54c6569ab1632332b64b2c03c39dcf918b08424e98f38b5ae0af88f"
  },
  "kernelspec": {
   "display_name": "Python 3.8.5 64-bit ('base': conda)",
   "name": "python3"
  },
  "language_info": {
   "codemirror_mode": {
    "name": "ipython",
    "version": 3
   },
   "file_extension": ".py",
   "mimetype": "text/x-python",
   "name": "python",
   "nbconvert_exporter": "python",
   "pygments_lexer": "ipython3",
   "version": "3.8.5"
  },
  "orig_nbformat": 4
 },
 "nbformat": 4,
 "nbformat_minor": 2
}
